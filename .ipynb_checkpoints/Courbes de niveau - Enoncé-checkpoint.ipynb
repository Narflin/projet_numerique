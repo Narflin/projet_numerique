{
 "cells": [
  {
   "cell_type": "markdown",
   "metadata": {},
   "source": [
    "# Courbes de niveau"
   ]
  },
  {
   "cell_type": "markdown",
   "metadata": {},
   "source": [
    "## Table des matières\n",
    "\n",
    "- Préambule\n",
    "\n",
    "  - Dépendances logicielles\n",
    "\n",
    "  - Différentiation automatique\n",
    "\n",
    "- Ensembles de niveau\n",
    "\n",
    "  - Exemples de référence\n",
    "\n",
    "  - Analyse des ensembles de niveau (Q1, Q2, Q3, Q4)\n",
    "\n",
    "- Construction des courbes de niveau\n",
    "\n",
    "  - Méthode de Newton (Q5, T1, T2)\n",
    "\n",
    "  - Génération des points (Q6, T3)\n",
    "\n",
    "  - Bouclage et auto-intersection (Q7, T4, T5)\n",
    "\n",
    "- Post-traitement\n",
    "\n",
    "  - Interpolation (Q8, T6)\n",
    "\n",
    "  - Intégration (T7, T8)"
   ]
  },
  {
   "cell_type": "markdown",
   "metadata": {},
   "source": [
    "## Préambule"
   ]
  },
  {
   "cell_type": "markdown",
   "metadata": {},
   "source": [
    "### Dépendances logicielles "
   ]
  },
  {
   "cell_type": "code",
   "execution_count": null,
   "metadata": {},
   "outputs": [],
   "source": [
    "# Python Standard Library\n",
    "# -----------------------\n",
    "pass"
   ]
  },
  {
   "cell_type": "code",
   "execution_count": null,
   "metadata": {
    "tags": []
   },
   "outputs": [],
   "source": [
    "# Third-Party Libraries\n",
    "# ---------------------\n",
    "\n",
    "# Autograd & Numpy\n",
    "import autograd\n",
    "import autograd.numpy as np\n",
    "\n",
    "# Pandas\n",
    "import pandas as pd\n",
    "\n",
    "# Matplotlib\n",
    "import matplotlib as mpl\n",
    "import matplotlib.pyplot as plt\n",
    "plt.rcParams['figure.figsize'] = [10, 10] # [width, height] (inches). \n",
    "\n",
    "# Jupyter & IPython\n",
    "from IPython.display import display"
   ]
  },
  {
   "cell_type": "markdown",
   "metadata": {},
   "source": [
    "### Différentation automatique"
   ]
  },
  {
   "cell_type": "markdown",
   "metadata": {},
   "source": [
    "On définit ici deux fonctions utilitaires, `grad` et `J`, permettant de calculer simplement le gradient d'une fonction scalaire de deux variables réelles et la matrice jacobienne d'une fonction vectorielle de deux variables réelles."
   ]
  },
  {
   "cell_type": "code",
   "execution_count": null,
   "metadata": {},
   "outputs": [],
   "source": [
    "def grad(f):\n",
    "    g = autograd.grad\n",
    "    def grad_f(x, y):\n",
    "        return np.array([g(f, 0)(x, y), g(f, 1)(x, y)])\n",
    "    return grad_f"
   ]
  },
  {
   "cell_type": "code",
   "execution_count": null,
   "metadata": {},
   "outputs": [],
   "source": [
    "def J(f):\n",
    "    j = autograd.jacobian\n",
    "    def J_f(x, y):\n",
    "        return np.array([j(f, 0)(x, y), j(f, 1)(x, y)]).T\n",
    "    return J_f"
   ]
  },
  {
   "cell_type": "markdown",
   "metadata": {},
   "source": [
    "#### Exemples d'usage"
   ]
  },
  {
   "cell_type": "code",
   "execution_count": null,
   "metadata": {},
   "outputs": [],
   "source": [
    "def f(x, y):\n",
    "    return np.sin(x) + 2.0 * np.sin(y)\n",
    "\n",
    "grad_f = grad(f)\n",
    "\n",
    "grad_f(0.0, 0.0) # array([1., 2.])"
   ]
  },
  {
   "cell_type": "code",
   "execution_count": null,
   "metadata": {},
   "outputs": [],
   "source": [
    "def f(x, y):\n",
    "    return np.array([x + 2 * y, 3 * x + 4 * y])\n",
    "\n",
    "J_f = J(f)\n",
    "\n",
    "J_f(0.0, 0.0) # array([[1., 2.], [3., 4.]])"
   ]
  },
  {
   "cell_type": "markdown",
   "metadata": {},
   "source": [
    "#### Précautions\n",
    "\n",
    "Les deux sources d'erreurs (avec messages cryptiques) les plus communes avec autograd :"
   ]
  },
  {
   "cell_type": "markdown",
   "metadata": {},
   "source": [
    "**Selection de NumPy**\n",
    "\n",
    "N'importez pas NumPy directement, par exemple avec\n",
    "\n",
    "    >>> import numpy as np # Wrong !\n",
    "\n",
    "mais importez le module `numpy` qui a été modifié par `autograd` (pour que les fonctions du module \"coopérent\" avec les algorithmes de différentiation automatique). \n",
    "\n",
    "    >>> import autograd.numpy as np # Right !\n",
    "    \n",
    "Utilisez-le ensuite comme vous le feriez avec NumPy classique."
   ]
  },
  {
   "cell_type": "markdown",
   "metadata": {},
   "source": [
    "**Utilisez des doubles**\n",
    "\n",
    "Les fonctions générées par autograd sont strictes quand au type des nombres utilisés (plus strictes que les fonctions NumPy) : il doit s'agir de doubles. Par exemple, si l'on définit\n",
    "\n",
    "    >>> def add(x, y):\n",
    "    ...    return x + y\n",
    "    >>> grad_add = grad(add)\n",
    "\n",
    "Alors `grad_add(0.0, 0.0)` renvoie `array([1.0, 1.0])`, mais `grad_add(0, 0)` génère une erreur, car ses arguments sont des entiers et non des doubles.\n"
   ]
  },
  {
   "cell_type": "markdown",
   "metadata": {},
   "source": [
    "## Ensembles de niveau"
   ]
  },
  {
   "cell_type": "markdown",
   "metadata": {},
   "source": [
    "On appelle *ensemble de niveau* $c \\in \\mathbb{R}$ d'une fonction $f : \\mathbb{R}^2 \\to \\mathbb{R}$  l'ensemble du plan\n",
    "$$\n",
    "\\{(x_1,x_2) \\in \\mathbb{R}^2 \\; | \\; f(x_1, x_2) = c\\}.\n",
    "$$\n"
   ]
  },
  {
   "cell_type": "markdown",
   "metadata": {},
   "source": [
    "### Exemples de référence"
   ]
  },
  {
   "cell_type": "markdown",
   "metadata": {},
   "source": [
    "On définit ici quelques fonctions qui pourront servir de référence pour valider les algorithmes de génération de courbes de niveau. On pourra également utiliser la fonction utilitaire `display_contour` ci-dessous, qui exploite [la fonction `contour` de Matplotlib](https://matplotlib.org/3.1.1/api/_as_gen/matplotlib.pyplot.contour.html) pour représenter une collection d'ensembles de niveau."
   ]
  },
  {
   "cell_type": "code",
   "execution_count": null,
   "metadata": {},
   "outputs": [],
   "source": [
    "def display_contour(f, x, y, levels):\n",
    "    X, Y = np.meshgrid(x, y)\n",
    "    Z = f(X, Y)\n",
    "    fig, ax = plt.subplots()\n",
    "    contour_set = plt.contour(\n",
    "        X, Y, Z, colors=\"grey\", linestyles=\"dashed\", \n",
    "        levels=levels \n",
    "    )\n",
    "    ax.clabel(contour_set)\n",
    "    plt.grid(True)\n",
    "    plt.xlabel(\"$x_1$\") \n",
    "    plt.ylabel(\"$x_2$\")\n",
    "    plt.gca().set_aspect(\"equal\")"
   ]
  },
  {
   "cell_type": "markdown",
   "metadata": {},
   "source": [
    "#### Fonction quadratique"
   ]
  },
  {
   "cell_type": "code",
   "execution_count": null,
   "metadata": {},
   "outputs": [],
   "source": [
    "def f1(x1, x2):\n",
    "    x1 = np.array(x1)\n",
    "    x2 = np.array(x2)\n",
    "    return 3.0 * x1 * x1 - 2.0 * x1 * x2 + 3.0 * x2 * x2 "
   ]
  },
  {
   "cell_type": "code",
   "execution_count": null,
   "metadata": {
    "tags": []
   },
   "outputs": [],
   "source": [
    "display_contour(\n",
    "    f1, \n",
    "    x=np.linspace(-1.0, 1.0, 100), \n",
    "    y=np.linspace(-1.0, 1.0, 100), \n",
    "    levels=10 # 10 levels, automatically selected\n",
    ")\n"
   ]
  },
  {
   "cell_type": "markdown",
   "metadata": {},
   "source": [
    "#### Fonction de Rosenbrock\n",
    "\n",
    "Source : [Fonction de Rosenbrock, Wikipédia](https://en.wikipedia.org/wiki/Rosenbrock_function)\n",
    "\n",
    "$$\n",
    "f_2 : (x_1,x_2) \\in \\mathbb{R}^2 \\mapsto (x_1 - 1)^2 + (x_1 - x_2^2)^2\n",
    "$$"
   ]
  },
  {
   "cell_type": "code",
   "execution_count": null,
   "metadata": {},
   "outputs": [],
   "source": [
    "def f2(x1, x2):\n",
    "    return (x1 - 1)**2 + (x1 - x2**2)**2"
   ]
  },
  {
   "cell_type": "code",
   "execution_count": null,
   "metadata": {
    "scrolled": true
   },
   "outputs": [],
   "source": [
    "display_contour(\n",
    "    f2, \n",
    "    x=np.linspace(-1.0, 3.0, 100), \n",
    "    y=np.linspace(-2.0, 2.0, 100), \n",
    "    levels=[2**i for i in range(-3, 8)] # levels: [0.125, 0.25, ..., 64, 128]\n",
    ")"
   ]
  },
  {
   "cell_type": "markdown",
   "metadata": {},
   "source": [
    "#### Fonction complexe\n",
    "\n",
    "Source: [Courbe implicite, Wikipédia](https://en.wikipedia.org/wiki/Implicit_curve)"
   ]
  },
  {
   "cell_type": "code",
   "execution_count": null,
   "metadata": {},
   "outputs": [],
   "source": [
    "def f3(x, y):\n",
    "    return np.sin(x + y) - np.cos(x * y) - 1 + 0.001 * (x * x + y * y) "
   ]
  },
  {
   "cell_type": "code",
   "execution_count": null,
   "metadata": {},
   "outputs": [],
   "source": [
    "display_contour(\n",
    "    f3, \n",
    "    x=np.linspace(-5.0, 5.0, 100), \n",
    "    y=np.linspace(-5.0, 5.0, 100), \n",
    "    levels=5, # 5 levels, automatically selected\n",
    ")"
   ]
  },
  {
   "cell_type": "markdown",
   "metadata": {},
   "source": [
    "### Analyse des ensembles de niveau"
   ]
  },
  {
   "cell_type": "markdown",
   "metadata": {},
   "source": [
    "#### Question 1\n",
    "\n",
    "Soit $c \\in \\mathbb{R}$.\n",
    "On suppose que la fonction $f:\\mathbb{R}^2 \\to \\mathbb{R}$ est continue et vérifie\n",
    "$f(x_1, x_2) \\to +\\infty$ quand $\\|(x_1,x_2)\\| \\to +\\infty$.\n",
    "Que peut-on dire de l'ensemble de niveau $c$ de $f$ ?"
   ]
  },
  {
   "cell_type": "markdown",
   "metadata": {},
   "source": [
    "#### Réponse Q1 :\n",
    "Notons A l'ensemble de niveau $c$ de f.  \n",
    "$A$ est fermé comme image réciproque du fermé ${c}$ par l'application continue $f$. De plus, montrons que A est borné :\n",
    "\n",
    "$f(x_1, x_2) \\to +\\infty$ quand $\\|(x_1,x_2)\\| \\to +\\infty$ donc $\\exists M \\in \\mathbb{R}$ tq $\\forall \\|(x_1,x_2)\\| \\geq M$, on a $f(x_1,x_2) \\geq c+1$. <br>\n",
    "Ainsi, $A$ est borné par $M$.<br>\n",
    "On est en dimension finie, donc fermé borné implique compact.<br>\n",
    "Finalement, l'ensemble de niveau $c$ de $f$ est un compact. \n",
    "***"
   ]
  },
  {
   "cell_type": "markdown",
   "metadata": {
    "tags": []
   },
   "source": [
    "Dans la suite la fonction $f$ est supposée continûment différentiable. On suppose également que le gradient $\\nabla f$ ne s'annule pas dans un voisinage du point $x_0 = (x_{10}, x_{20}) \\in \\mathbb{R}^2$. On pose alors\n",
    "$$\n",
    "p(x_1, x_2) := \\frac{\\partial_2 f(x_0)}{\\|\\nabla f(x_0)\\|} (x_1 - x_{10}) -\n",
    "\\frac{\\partial_1 f(x_0)}{\\|\\nabla f(x_0)\\|} (x_2 - x_{20}).\n",
    "$$\n",
    "\n",
    "\n"
   ]
  },
  {
   "cell_type": "markdown",
   "metadata": {},
   "source": [
    "#### Question 2\n",
    "Comment interpréter géométriquement le terme $p(x_1,x_2)$ ?"
   ]
  },
  {
   "cell_type": "markdown",
   "metadata": {
    "tags": []
   },
   "source": [
    "\n",
    "#### Réponse Q2 :\n",
    "C'est le produit scalaire entre le vecteur $x-x_0= (x_1-x_{10}, x_2-x_{20}) $  et la rotation d'angle $- \\frac{\\pi}{2}$ de $\\nabla f(x_0)$.\n",
    "\n"
   ]
  },
  {
   "cell_type": "markdown",
   "metadata": {},
   "source": [
    "#### Question 3\n",
    "\n",
    "Montrer que dans un voisinage ouvert de $x_0$, on peut paramétriser l'ensemble de niveau $c:=f(x_0)$ au moyen de $p(x_1,x_2),$ c'est-à-dire qu'il existe un $\\varepsilon > 0$ et une fonction (continûment différentiable) $\\gamma :\\left]-\\varepsilon,\\varepsilon \\right[ \\to \\mathbb{R}^2$ tels que dans un voisinage ouvert de $x_0,$ $f(x_1,x_2) = c$ si et seulement si $(x_1, x_2) = \\gamma(t)$ où $t = p(x_1, x_2)$."
   ]
  },
  {
   "cell_type": "markdown",
   "metadata": {},
   "source": [
    "#### Réponse Q3 :\n",
    "On pose $g:\\mathbb{R}^2 \\times \\mathbb{R} \\to \\mathbb{R}^2$, $g(x,t) = (f(x)-c, p(x)-t)$. $g$ est continûment différentiable car $f$ et $p$ le sont.\n",
    "$$J_{\\partial_x g}(x,t) = \n",
    " \\begin{pmatrix}\n",
    "     \\partial_1 f(x) & \\partial_2 f(x) \\newline\n",
    "     \\frac{\\partial_2 f(x_0)}{\\|\\nabla f(x_0)\\|} & -\\frac{\\partial_1 f(x_0)}{\\|\\nabla f(x_0)\\|}\n",
    "  \\end{pmatrix} \n",
    "$$\n",
    "\n",
    "\n",
    "Par hypothèse, $\\nabla f$ ne s'annule pas sur un voisinage $O'$ de $ x_0 $. $x \\mapsto \\partial_1 f(x).\\partial_1 f(x_0) + \\partial_2 f(x).\\partial_2 f(x_0)$ est une fonction continue sur $O'$ ; elle est de plus non nulle en $x_0$ car $\\nabla f(x_0) \\ne 0$, donc il existe un autre voisinage $O$ ouvert de $x_0$ inclus $O'$ tel que :\n",
    "\n",
    "$$\\forall x \\in O, \\quad \\forall t \\in \\mathbb{R}, \\quad det(J_{\\partial_x g}(x,t)) = -\\frac{\\partial_1 f(x).\\partial_1 f(x_0) + \\partial_2 f(x).\\partial_2 f(x_0)}{\\|\\nabla f(x_0)\\|} \\ne 0 $$\n",
    "\n",
    "Ainsi, $g$ est inversible sur l'ouvert $O \\times \\mathbb{R}$.  \n",
    "\n",
    "On a de plus $g(x_0, p(x_0)) = 0$. Par théorème des fonctions implicites : il existe un $\\varepsilon > 0$ et une fonction (continûment différentiable) $\\gamma :\\left]-\\varepsilon,\\varepsilon \\right[ \\to \\mathbb{R}^2$ tels que dans un voisinage ouvert $U$ de $x_0,$ $$g(x,t) = 0 \\iff x = \\gamma(t),$$ c'est-à-dire $$f(x_1,x_2) = c, \\quad t = p(x_1, x_2) \\iff (x_1, x_2) = \\gamma(t).$$"
   ]
  },
  {
   "cell_type": "markdown",
   "metadata": {},
   "source": [
    "#### Question 4\n",
    "\n",
    "Montrer que pour tout $t \\in \\left]-\\varepsilon, \\varepsilon \\right[$ :\n",
    "\n",
    "  - le vecteur $\\gamma'(t)$ est non nul (il fournit donc une tangente au chemin $\\gamma$),\n",
    "\n",
    "  - est orthogonal à $\\nabla f(\\gamma(t))$."
   ]
  },
  {
   "cell_type": "markdown",
   "metadata": {},
   "source": [
    "#### Réponse Q4 :\n",
    "On a, d'après le théorème des fonction implicites: $$d\\gamma(t) = -\\partial_x g(x,t)^{-1} \\cdot \\partial_tg(x,t) $$\n",
    "avec $x = \\gamma(t)$  \n",
    "la jacobienne associée est : \n",
    "$$ J_{\\gamma(t)}= -\n",
    "\\begin{pmatrix}\n",
    "   \\partial_1 f(x) & \\partial_2 f(x) \\newline\n",
    "   \\frac{\\partial_2 f(x_0)}{\\|\\nabla f(x_0)\\|} &    \\frac{\\partial_1 f(x_0)}{\\|\\nabla f(x_0)\\|}\n",
    " \\end{pmatrix}^{-1} \\cdot \n",
    " \\begin{pmatrix}\n",
    "     0 \\newline\n",
    "     -1\n",
    " \\end{pmatrix}=\\frac{1}{det(J_{\\partial_xg})}\\times\n",
    " \\begin{pmatrix}\n",
    "     -\\partial_2f(\\gamma(t)) \\newline\n",
    "     \\partial_1f(\\gamma(t))\n",
    " \\end{pmatrix}\n",
    "$$\n",
    "\n",
    "et donc $\\gamma'(t)=\n",
    " \\begin{pmatrix}\n",
    "     -\\partial_2f(\\gamma(t)) \\newline\n",
    "     \\partial_1f(\\gamma(t))\n",
    " \\end{pmatrix}$\n",
    " \n",
    "D'autre part on a $\\nabla f(\\gamma(t)) =  \\begin{pmatrix}\n",
    "     \\partial_1f(\\gamma(t)) \\newline\n",
    "     \\partial_2f(\\gamma(t))\n",
    " \\end{pmatrix}$\n",
    " donc $\\gamma'(t)$ et $\\nabla f(\\gamma(t))$ sont orthogonaux.  \n",
    " \n",
    " De plus le gradient de f est non nul sur $\\gamma(]-\\epsilon,\\epsilon [)$\n",
    "  donc $\\gamma'(t)$ est non nul sur $ ]-\\epsilon,\\epsilon [$"
   ]
  },
  {
   "cell_type": "markdown",
   "metadata": {},
   "source": [
    "## Construction des courbes de niveau"
   ]
  },
  {
   "cell_type": "markdown",
   "metadata": {},
   "source": [
    "### Méthode de Newton\n",
    "\n",
    "Afin de trouver des points sur des courbes de niveau, on souhaite implémenter un algorithme de résolution des équations de la forme $F(x) = 0$ où $F: \\mathbb{R}^2 \\to \\mathbb{R}^2$, par la méthode de Newton, amorcée par un point de référence $x_0 \\in \\mathbb{R}^2$.\n",
    "\n",
    "L'implémentation prendra la forme générale donnée ci-dessous. L'appel `x, y = Newton(F, x0, y0, eps, N)` devra renvoyer le couple des coordonnées d'un point $(x, y)$ qui est une solution approchée de $F(x,y)=0$ à proximité de $(x_0, y_0)$. La qualité de l'approximation produite est déterminée par le réel positif $\\varepsilon > 0$, une approximation de la distance entre le point $(x,y)$ renvoyé par la fonction et la solution exacte. L'algorithme itératif s'interrompra si aucune approximation de la précision souhaitée n'a été trouvée en $N$ étapes. "
   ]
  },
  {
   "cell_type": "markdown",
   "metadata": {},
   "source": [
    "#### Question 5\n",
    "\n",
    "L'application à laquelle nous destinons la fonction `Newton` demande-t'elle une grande précision ?\n",
    "Choisir une valeur de `eps` qui semble raisonnable et justifier l'ordre de grandeur choisi."
   ]
  },
  {
   "cell_type": "markdown",
   "metadata": {
    "tags": []
   },
   "source": [
    "#### Réponse Q5 :\n",
    "\n",
    "On destine la fonction `Newton` à trouver des points qui seront ensuite affichés sur un écran ce qui ne nécéssite pas une grande précision, de plus on ne refait pas de calculs avec ces points après les avoir trouvés, il n'y aura donc pas de problème d'accumulation d'erreurs. \n",
    "Si $\\epsilon$ est trop petit on pourrait avoir des problèmes liés à la précision des calculs de flottants et potentiellement ne jamais avoir $\\sqrt{(x-x_0)^2+(y-y_0)^2}\\leq \\epsilon$ par exemple si $\\sqrt{2\\epsilon _{machine} ^2} \\ge \\epsilon$ (avec l' $\\epsilon _{machine}$ pour les flottants proches de 0 )on doit donc avoir au moins $\\epsilon \\ge \\sqrt{2\\epsilon _{machine} ^2}$ or si cette précision est trop grand pour notre application donc on prend par exemple $\\epsilon = 10^{-5}$."
   ]
  },
  {
   "cell_type": "code",
   "execution_count": null,
   "metadata": {},
   "outputs": [],
   "source": [
    "N = 100\n",
    "eps = 10**(-5)"
   ]
  },
  {
   "cell_type": "markdown",
   "metadata": {},
   "source": [
    "#### Tâche 1\n",
    "\n",
    "Implémenter la fonction `Newton` en complétant le canevas ci-dessous"
   ]
  },
  {
   "cell_type": "code",
   "execution_count": null,
   "metadata": {},
   "outputs": [],
   "source": [
    "def Newton(F, x0, y0, eps=eps, N=N):\n",
    "    \n",
    "    for i in range(N):\n",
    "        v = np.array([x0, y0]) - np.dot(np.linalg.inv(J(F)(x0, y0)),F(x0, y0))\n",
    "        x = v[0]\n",
    "        y = v[1]\n",
    "        if np.sqrt( (x - x0)**2 + (y - y0)**2 ) <= eps:\n",
    "            return x, y\n",
    "        x0, y0 = x, y\n",
    "    else:\n",
    "        raise ValueError(f\"no convergence in {N} steps.\")"
   ]
  },
  {
   "cell_type": "markdown",
   "metadata": {},
   "source": [
    "#### Tâche 2\n",
    "\n",
    "Testez votre implémentation de la fonction `Newton` ! On suggère par exemple de l'utiliser pour chercher un point $(x_1, x_2)$ de la ligne de niveau $0.8$ de $f_1$ (cf. Exemples de référence) qui vérifie en outre $x_1 = x_2$ en utilisant le point initial $(0.8, 0.8)$. Puis de faire varier le point initial, la contrainte supplémentaire, etc. et de représenter graphiquement les résultats."
   ]
  },
  {
   "cell_type": "code",
   "execution_count": null,
   "metadata": {
    "tags": []
   },
   "outputs": [],
   "source": [
    "def h1(x,y):\n",
    "    return np.array([f1(x,y) - 0.8, x - y])\n",
    "\n",
    "def h2(x,y):\n",
    "    return np.array([f1(x,y) - 0.8, x - 4*y])\n",
    "\n",
    "def h3(x,y):\n",
    "    return np.array([f1(x,y) - 0.8, x - 0.5*y])\n",
    "    \n",
    "x = [0.8,0.1,-0.5,0.1]\n",
    "y = [0.8,0.3,0.4,-0.3]\n",
    "X1, X2, X3, Y1, Y2, Y3 = [], [], [], [], [], []\n",
    "for i in range(4):\n",
    "    X1.append(Newton(h1,x[i],y[i])[0])\n",
    "    X2.append(Newton(h2,x[i],y[i])[0])\n",
    "    X3.append(Newton(h3,x[i],y[i])[0])\n",
    "    Y1.append(Newton(h1,x[i],y[i])[1])\n",
    "    Y2.append(Newton(h2,x[i],y[i])[1])\n",
    "    Y3.append(Newton(h3,x[i],y[i])[1])\n",
    "\n",
    "X0=np.linspace(-1.0, 1.0, 100) \n",
    "Y0=np.linspace(-1.0, 1.0, 100)\n",
    "\n",
    "display_contour(f1, X0, Y0, levels=10)\n",
    "\n",
    "plt.scatter(X1,Y1,c='red')\n",
    "plt.scatter(X2,Y2,c='green')\n",
    "plt.scatter(X3,Y3,c='blue')"
   ]
  },
  {
   "cell_type": "markdown",
   "metadata": {
    "tags": []
   },
   "source": [
    "### Génération des points\n",
    "\n",
    "#### Question 6 + Tâche 3\n",
    "Comment, en partant d'un point de référence $(x_0, y_0)$ tel que $f(x_0, y_0)=c$, peut-on générer avec la méthode de Newton un point $(x_1, y_1)$ également tel que $f(x_1, y_1) = c$, mais à une distance $\\delta > 0$ de $(x_0, y_0)$ et qui soit \"à droite\" quand on est en $(x_0, y_0)$ et qu'on regarde dans la direction de $\\nabla f(x_0, y_0)$ ? Implémenter la fonction `level_curve` qui répète ce procédé $N-1$ fois et renvoie un tableau NumPy de taille `(2, N)` contenant les coordonnées des points correspondants, puis valider graphiquement le résultat au moyen des exemples de référence."
   ]
  },
  {
   "attachments": {
    "g%C3%A9n%C3%A9ration-points.png": {
     "image/png": "[encoded data removed]"
    }
   },
   "cell_type": "markdown",
   "metadata": {},
   "source": [
    "![g%C3%A9n%C3%A9ration-points.png](attachment:g%C3%A9n%C3%A9ration-points.png)"
   ]
  },
  {
   "cell_type": "markdown",
   "metadata": {
    "tags": []
   },
   "source": [
    "pour créer $X_{n+1}$ à distance $\\delta$ de $X_n$ dans le \"bon\" sens sur la courbe on procède comme suivant :<br>\n",
    "on créé un vecteur $\\vec{v}$ étant la rotation d'angle $- \\frac{\\pi}{2}$ de $\\nabla f(x_0)$, on normalise ce vecteur. on effectue ensuite une méthode de Newton au point $X_{n}+\\vec{v}$ avec la condition $\\| X-X_n \\|=\\delta$ qui permet  de créer le point $X_{n+1}$ et on itère."
   ]
  },
  {
   "cell_type": "code",
   "execution_count": null,
   "metadata": {
    "tags": []
   },
   "outputs": [],
   "source": [
    "def level_curve(f, x0, y0, delta=0.1, N=1000, eps=eps):\n",
    "    grad_f = grad(f)\n",
    "    X,Y = [x0],[y0]\n",
    "    x,y = x0,y0\n",
    "    c = f(x0,y0)\n",
    "    def F(x,y,x1,y1):\n",
    "        return np.array([f(x,y)-c,np.sqrt((x-x1)**2 + (y-y1)**2) - delta])\n",
    "    for i in range(1,N):\n",
    "        grd = grad_f(x,y)\n",
    "        v = np.array([grd[1],-grd[0]])\n",
    "        v = v/np.linalg.norm(v)\n",
    "        x,y = x + delta*v[0],y + delta*v[1]\n",
    "        x,y = Newton(lambda a,b : F(a,b,X[-1],Y[-1]), x,y)\n",
    "        X.append(x)\n",
    "        Y.append(y)\n",
    "    return np.array([X,Y])"
   ]
  },
  {
   "cell_type": "code",
   "execution_count": null,
   "metadata": {
    "scrolled": true,
    "tags": []
   },
   "outputs": [],
   "source": [
    "F1 = lambda a, b : np.array( [ f1(a,b) - 0.8, a-b] )\n",
    "x,y = Newton(F1,0.8,0.8)\n",
    "XY = level_curve(f1,x,y, N = 500)\n",
    "X0=np.linspace(-1.0, 1.0, 100) \n",
    "Y0=np.linspace(-1.0, 1.0, 100)\n",
    "\n",
    "display_contour(f1, X0, Y0, levels=10) # 10 levels, automatically selected\n",
    "\n",
    "plt.scatter(XY[0,::],XY[1,::],c='purple',marker = '.');"
   ]
  },
  {
   "cell_type": "code",
   "execution_count": null,
   "metadata": {},
   "outputs": [],
   "source": [
    "F3 = lambda a, b : np.array( [ f3(a,b) +2.4, a-b] )\n",
    "x,y = Newton(F3,0.0,0.0)\n",
    "XY = level_curve(f3,x,y, N = 500)\n",
    "X0=np.linspace(-5.0, 5.0, 100)\n",
    "Y0=np.linspace(-5.0, 5.0, 100)\n",
    "\n",
    "display_contour(f3, X0, Y0, levels=5) # 5 levels, automatically selected\n",
    "\n",
    "plt.scatter(XY[0,::],XY[1,::],c='purple',marker='.');"
   ]
  },
  {
   "cell_type": "markdown",
   "metadata": {},
   "source": [
    "### Bouclage et auto-intersection\n",
    "\n",
    "L'algorithme précédent est malheureusement susceptible de faire plusieurs fois le tour d'une courbe de niveau donnée. \n",
    "\n",
    "#### Question 7 + Tâche 4\n",
    "\n",
    "Proposer une nouvelle implémentation de `level_curve` qui arrête l'algorithme et renvoie les points connus quand le segment formé par les deux derniers points produits intersecte l'un des segments produits auparavant. En étant (raisonnablement) optimiste, doit-t'on prendre la peine de tester l'intersection du dernier segment avec tous les segments déjà produits (ce qui prend du temps ...) ou juste avec le premier ? Pour répondre à cette question, on pourra se demander si les courbes de niveau similaires à celle de la fonction de Rosenbrock passant par le point $(0.5, 0)$ (cf. Exemples de référence) -- c'est-à-dire \"auto-intersectantes\" -- sont fréquentes ou rares et pourquoi."
   ]
  },
  {
   "cell_type": "markdown",
   "metadata": {},
   "source": [
    "#### réponse question 4\n",
    "Le principal problème est de tester l'intersection de 2 segments du plan, on pourrait résoudre un système, mais il y a plus simple : soient les 4 points $A,B,C$ et $D$ du plan. on cherche à tester si les segments $[A,B]$ et $ [C,D]$ s'intersectent.\n",
    "on a intersection $ssi$ $A,B$ sont de part et d'autre de la droite $(C,D)$ $et$ $C,D$ sont de part et d'autre de $(A,B)$.\n",
    "\n",
    "pour savoir si $A,B$ sont de part et d'autre de la droite $(C,D)$ on teste si :\n",
    "\n",
    "$( \\vec{CD} \\land \\vec{CB} ) \\cdot (\\vec{CD} \\land \\vec{CA}) \\leq 0$\n",
    "\n",
    "de même façon on teste si $C,D$ sont de part et d'autre de la droite $(A,B)$ en testant si :\n",
    "\n",
    "$( \\vec{AB} \\land \\vec{AC} ) \\cdot (\\vec{AB} \\land \\vec{AD}) \\leq 0$\n",
    "\n",
    "ces tests ne marchent que si les droites ne sont pas parallèles, on teste donc si les droites sont parallèles en testant si :\n",
    "\n",
    "$\\vec{AB} \\land \\vec{CD} = 0 $\n",
    "\n",
    "\n",
    "A l'interesection d'une courbe auto-intersectante le gradient est nul, c'est donc un point critique, plus particulièrement il faut que ce point soit un point col. Comme ce sont des points particuliers, si une courbe de niveau $ \\{  f(x,y)=c \\}$ est auto-intersectante, il va exister un ouvert contenant c, tel que les courbes de niveau correspondantes aux valeurs de cet ouvert ne seront pas auto-intersectantes sur un certain ouvert autour du point col. Ainsi, en ne choisissant pas la fonction et les valeurs de niveau que l'on veut afficher pour qu'une courbe soit auto-interectante, il y a très peu de chance que le problème survienne."
   ]
  },
  {
   "cell_type": "code",
   "execution_count": null,
   "metadata": {},
   "outputs": [],
   "source": [
    "def level_curve2(f, x0, y0, delta=0.1, N=1000, eps=eps):\n",
    "    grad_f = grad(f)\n",
    "    X,Y = [x0],[y0]\n",
    "    x,y = x0,y0\n",
    "    c = f(x0,y0)\n",
    "    def F(x,y,x1,y1):\n",
    "        return np.array([f(x,y)-c,np.sqrt((x-x1)**2 + (y-y1)**2) - delta])\n",
    "    for i in range(1,N):\n",
    "        grd = grad_f(x,y)\n",
    "        u = np.array([grd[1],-grd[0]])\n",
    "        u = u/np.linalg.norm(u)\n",
    "        x,y = x + delta*u[0],y + delta*u[1]\n",
    "        x,y = Newton(lambda a,b : F(a,b,X[-1],Y[-1]), x,y)\n",
    "        if i>2:\n",
    "            A = np.array([x0,y0])\n",
    "            B = np.array([X[1],Y[1]])\n",
    "            C = np.array([x,y])\n",
    "            D = np.array([X[-1],Y[-1]])\n",
    "            AB = B - A\n",
    "            AC = C - A\n",
    "            AD = D - A\n",
    "            CD = D - C\n",
    "            CB = B - C\n",
    "            CA = - AC\n",
    "            r1 = np.cross(AB,CD) != 0\n",
    "            p1 = np.cross(AB,AC)\n",
    "            p2 = np.cross(AB,AD)\n",
    "            r2 = p1 * p2 <= 0\n",
    "            p3 = np.cross(CD,CB)\n",
    "            p4 = np.cross(CD,CA)\n",
    "            r3 = p3 * p4 <= 0\n",
    "            if r2 and r3 and r1:\n",
    "                break         \n",
    "        X.append(x)\n",
    "        Y.append(y)\n",
    "    return np.array([X,Y])\n",
    "    "
   ]
  },
  {
   "cell_type": "markdown",
   "metadata": {},
   "source": [
    "#### Tâche 5\n",
    "\n",
    "Valider graphiquement le résultat au moyen des exemples de référence."
   ]
  },
  {
   "cell_type": "code",
   "execution_count": null,
   "metadata": {},
   "outputs": [],
   "source": [
    "F3 = lambda a, b : np.array( [ f3(a,b) +2.4, a-b] )\n",
    "x,y = Newton(F3,0.0,0.0)\n",
    "XY = level_curve2(f3,x,y, N = 500)\n",
    "X0=np.linspace(-5.0, 5.0, 100)\n",
    "Y0=np.linspace(-5.0, 5.0, 100)\n",
    "\n",
    "display_contour(f3, X0, Y0, levels=5) # 10 levels, automatically selected\n",
    "\n",
    "plt.scatter(XY[0,::],XY[1,::],c='purple',marker='.');"
   ]
  },
  {
   "cell_type": "code",
   "execution_count": null,
   "metadata": {},
   "outputs": [],
   "source": [
    "F1 = lambda a, b : np.array( [ f1(a,b) - 0.8, a-b] )\n",
    "x,y = Newton(F1,0.8,0.8)\n",
    "XY = level_curve2(f1,x,y, N = 500)\n",
    "X0=np.linspace(-1.0, 1.0, 100) \n",
    "Y0=np.linspace(-1.0, 1.0, 100)\n",
    "\n",
    "display_contour(f1, X0, Y0, levels=10) # 10 levels, automatically selected\n",
    "\n",
    "plt.scatter(XY[0,::],XY[1,::],c='purple');"
   ]
  },
  {
   "cell_type": "code",
   "execution_count": 83,
   "metadata": {},
   "outputs": [
    {
     "data": {
      "text/plain": [
       "<matplotlib.collections.PathCollection at 0x1c22231bd60>"
      ]
     },
     "execution_count": 83,
     "metadata": {},
     "output_type": "execute_result"
    },
    {
     "data": {
      "image/png": "[encoded data removed]",
      "text/plain": [
       "<Figure size 720x720 with 1 Axes>"
      ]
     },
     "metadata": {
      "needs_background": "light"
     },
     "output_type": "display_data"
    }
   ],
   "source": [
    "F2 = lambda a,b : np.array([f2(a,b)-0.5,a-b-0.5])\n",
    "x,y = 1.5,1.0\n",
    "X0=np.linspace(-1.0, 3.0, 100), \n",
    "Y0=np.linspace(-2.0, 2.0, 100),\n",
    "display_contour(f2,X0,Y0,levels=[2**i for i in range(-3, 8)] )\n",
    "XY=level_curve2(f2,x,y,N=100)\n",
    "plt.scatter(XY[0,::],XY[1,::],c='purple')"
   ]
  },
  {
   "cell_type": "markdown",
   "metadata": {},
   "source": [
    "on voit ci-dessus le problème avec les courbes de niveau auto-intersectantes ..."
   ]
  },
  {
   "cell_type": "markdown",
   "metadata": {},
   "source": [
    "## Post-traitement"
   ]
  },
  {
   "cell_type": "markdown",
   "metadata": {},
   "source": [
    "Pour améliorer le rendu des courbes de niveau, il est tentant de diminuer la distance $\\delta$ entre deux points consécutifs. Malheureusement, dans des cas d'usage réalistes, il est fréquent que la fonction $f$ soit beaucoup plus complexe que les exemples qui nous avons considérés. Le nombre de fois où cette fonction est appelée est alors le principal facteur qui détermine le temps de calcul des lignes de niveau. On cherche donc dans cette section à améliorer la qualité visuelle des résultats sans faire exploser le nombre d'évaluation de la fonction $f$. On va chercher à résoudre ce problème en reliant les points successifs par des chemins plus \"flexibles\" que des segments de droites, ayant le potentiel de mieux coller aux lignes de niveau."
   ]
  },
  {
   "cell_type": "markdown",
   "metadata": {},
   "source": [
    "### Interpolation \n",
    "\n",
    "#### Question 8\n",
    "\n",
    "Soit $P_1$ et $P_2$ deux points du plan et $u_1$ et $u_2$ deux vecteurs du plan non nuls.\n",
    "On cherche à produire un chemin $\\gamma: [0,1] \\to \\mathbb{R}^2$ continûment différentiable, joignant $P_1$ et $P_2$ ($\\gamma(0) = P_1$ et $\\gamma(1) = P_2$), tel que $\\gamma'(0)$ soit dans la même direction et le même sens que $u_1$ et $\\gamma'(1)$ soit dans la même direction et le même sens que $u_2$.\n",
    "\n",
    "On recherche une telle solution sous la forme\n",
    "$\\gamma(t) = (x(t), y(t))$ où \n",
    "$$\n",
    "x(t) = a + bt + ct^2 \\; \\mbox{ et } \\; y(t) = d + et + ft^2\n",
    "$$\n",
    "et les paramètres réels $a, b, c, d, e, f$ sont à déterminer(*).\n",
    "\n",
    "\n",
    "Déterminer les coefficients $a, b, c, d, e, f$ solutions de ce problème quand ils existent.\n",
    "Expliciter si nécessaire les conditions que doivent remplir $P_1$, $P_2$, $u_1$ et $u_2$ pour qu'une solution existe.\n",
    "\n",
    "(*) Cf. [\"Mathematical Typography\" de Donald E. Knuth](https://projecteuclid.org/euclid.bams/1183544082) pp. 354-359 (Bull. Amer. Math. Soc. (N.S.), Volume 1, Number 2 (1979), 337-372), pour une classe de chemins interpolants similaire mais plus complexe."
   ]
  },
  {
   "cell_type": "markdown",
   "metadata": {},
   "source": [
    "#### Réponse Q8 :\n",
    "Le problème revient à résoudre le système suivant, d'inconnues $a$, $b$, $c$, $d$, $e$ et $f$ :  $\\exists k_1, k_2 \\geq 0 $ tq \n",
    "\n",
    "$$\\left\\{ \n",
    "\\begin{array}{r c l}\n",
    "   (a,d)  & = & (x(0), y(0)) & = & P_1 \\\\\n",
    "   (a + b + c, d + e + f) & = & (x(1), y(1)) & = & P_2 \\\\\n",
    "   (b, e) & = & (x'(0), y'(0)) & = & k_1u_1 \\\\\n",
    "   (b + 2c, e + 2f) & = & (x'(1), y'(1)) & = & k_2u_2\n",
    "\\end{array}\n",
    "\\right. $$\n",
    "\n",
    "Notons $P_2-P_1 = (p1,p2)$,$\\quad u_1=(u_{1,1},u_{1,2}) \\quad$ et $u_2=(u_{2,1},u_{2,2})$.\n",
    "\n",
    "Ce système admet une solution ssi $\\exists k_1, k_2 \\geq 0$ tq $$2P_2 = 2P_1 + k_1u_1 + k_2u_2$$ \n",
    "\n",
    "ie ssi $\\exists k_1, k_2 \\geq 0$ tq $$k_1u_1 + k_2u_2 = 2.(P_2 - P_1)$$\n",
    "\n",
    "ie ssi $u_1$ et $u_2$ sont colinéaires à $P_2 - P_1$ avec l'un au moins de même sens, ou $u_1$ et $u_2$ ne sont pas colinéraires et $\\frac{p_1.u_{2,2}-p_2.u_{2,1}}{u_{1,1}.u_{2,2}-u_{1,2}.u_{2,1}} \\geq 0$ et $\\frac{p_1.u_{1,2}-p_2.u_{1,1}}{u_{1,2}.u_{2,1}-u_{1,1}.u_{2,2}} \\geq 0$.\n",
    "\n",
    "Si cette condition est remplie, alors on pose $\\gamma : t \\in [0,1] \\mapsto (a+bt+ct^2,d+et+ft^2) \\in \\mathbb{R}^2$ où\n",
    "\n",
    "$$\\left\\{ \n",
    "\\begin{array}{r c l}\n",
    "   (a,d)  & = & P_1 \\\\\n",
    "   (b, e) & = & k_1u_1 \\\\\n",
    "   (c, f) & = & \\frac{1}{2}(k_2u_2 - k_1u_1)\n",
    "\\end{array}\n",
    "\\right. $$\n",
    "\n",
    "avec :\n",
    "- si $u_1$ et $u_2$ ne sont pas colinéaires, $k_1 = 2.\\frac{p_1.u_{2,2}-p_2.u_{2,1}}{u_{1,1}.u_{2,2}-u_{1,2}.u_{2,1}}$ et $k_2 = 2.\\frac{p_1.u_{1,2}-p_2.u_{1,1}}{u_{1,2}.u_{2,1}-u_{1,1}.u_{2,2}}$\n",
    "- sinon, si $u_i$ est de même sens que $P_2 - P_1$, alors $k_i = \\frac{\\|P_2-P_1\\|}{\\|u_i\\|}$ et on prend l'autre coefficient égal à $0$.\n",
    "\n",
    "$\\gamma$ convient, et est bien conitûment différentiable car ses composantes sont des polynômes."
   ]
  },
  {
   "cell_type": "markdown",
   "metadata": {},
   "source": [
    "#### Tâche 6\n",
    "\n",
    "Implémenter la solution sous la forme d'une fonction `gamma` dont les arguments sont `t`, `P1`, `P2`, `u1` et `u2` et qui renvoie le ou les points $\\gamma(t)$ associés. Lorsqu'il n'existe pas de chemin de la forme souhaitée pour les paramètres `P1`, `P2`, `u1` et `u2`, on utilisera comment remplacement de $\\gamma$ un chemin rectiligne interpolant linéairement les points $P_1$ et $P_2$.\n",
    "\n",
    "Pour des raisons de performance, on vectorisera cette fonction par rapport à `t` : \n",
    "\n",
    "  - en acceptant comme argument `t` des tableaux NumPy (monodimensionels) de nombres flottants et en renvoyant alors un tableau de taille `(2, len(t))` flottants décrivant l'abscisse et l'ordonnée des `len(t)` points $\\gamma(t)$ correspondant,\n",
    "\n",
    "  - en appliquant directement opérateurs et fonctions mathématiques aux tableaux NumPy, sans utiliser de boucle `for`,\n",
    "  \n",
    "On validera ensuite graphiquement l'implémentation sur un exemple où l'on représentera les point $P_1$ et $P_2$, les tangentes associées et le chemin $\\gamma$ correspondant.\n",
    "\n",
    "\n"
   ]
  },
  {
   "cell_type": "markdown",
   "metadata": {},
   "source": [
    "#### Réponse T6 :\n",
    "Si les conditions de la questions 8 ne sont pas remplies, on applique la fonction $\\phi : t \\in [0,1] \\mapsto (a'+b't,c'+d't) \\in \\mathbb{R}^2$ vérfiant $\\phi(0) = P_1$ et $\\phi(1) = P_2$, ie tq $(a', c') = P_1$ et $(b', d') = P_2 - P_1$."
   ]
  },
  {
   "cell_type": "code",
   "execution_count": null,
   "metadata": {},
   "outputs": [],
   "source": [
    "def gamma(t, P1, P2, u1, u2):\n",
    "    \n",
    "    P = P2 - P1\n",
    "    \n",
    "    def poly_x(z, k1, k2):\n",
    "        a = P1[0]\n",
    "        b = k1*u1[0]\n",
    "        c = (1/2)*(k2*u2[0] - k1*u1[0])\n",
    "        return a + b*z + c*z*z\n",
    "    \n",
    "    def poly_y(z, k1, k2):\n",
    "        d = P1[1]\n",
    "        e = k1*u1[1]\n",
    "        f = (1/2)*(k2*u2[1] - k1*u1[1])\n",
    "        return d + e*z + f*z*z\n",
    "        \n",
    "    def rect_x(z):\n",
    "        a = P1[0]\n",
    "        b = P[0]\n",
    "        return a + b*z\n",
    "    \n",
    "    def rect_y(z):\n",
    "        c = P1[1]\n",
    "        d = P[1]\n",
    "        return c + d*z\n",
    "    \n",
    "    #on vérifie si u1 et u2 sont colinéaires\n",
    "    if u1[0]*u2[1] - u1[1]*u2[0] == 0:\n",
    "        \n",
    "        #on vérifie s'ils sont colinéaires à P, et si l'un au moins est de même sens\n",
    "        if u1[0]*P[1] - u1[1]*P[0] == 0: \n",
    "            \n",
    "            if np.vdot(u1, P) >= 0:\n",
    "                k1 = np.linalg.norm(p)/np.linalg.norm(u1)\n",
    "                k2 = 0\n",
    "                return [poly_x(t, k1, k2), poly_y(t, k1, k2)]\n",
    "            \n",
    "            elif np.vdot(u2, P) >= 0:\n",
    "                k1 = 0\n",
    "                k2 = np.linalg.norm(p)/np.linalg.norm(u2)\n",
    "                return [poly_x(t, k1, k2), poly_y(t, k1, k2)]\n",
    "            \n",
    "            else:\n",
    "                return [rect_x(t), rect_y(t)]\n",
    "            \n",
    "        else:\n",
    "            return [rect_x(t), rect_y(t)]\n",
    "    \n",
    "    else:\n",
    "        k1 = 2 * (P[0]*u2[1] - P[1]*u2[0]) / (u1[0]*u2[1] - u2[0]*u1[1])\n",
    "        k2 = 2 * (P[0]*u1[1] - P[1]*u1[0]) / (u1[1]*u2[0] - u2[1]*u1[0])\n",
    "        \n",
    "        if (k1 >= 0) and (k2 >= 0):\n",
    "            return [poly_x(t, k1, k2), poly_y(t, k1, k2)]\n",
    "        \n",
    "        else:\n",
    "            return [rect_x(t), rect_y(t)]"
   ]
  },
  {
   "cell_type": "code",
   "execution_count": null,
   "metadata": {},
   "outputs": [],
   "source": [
    "X0=np.linspace(-1.0, 1.0, 100) \n",
    "Y0=np.linspace(-1.0, 1.0, 100)\n",
    "display_contour(f1, X0, Y0, levels=10)\n",
    "\n",
    "h1 = lambda a, b : np.array([f1(a,b) - 0.8, a-b])\n",
    "h2 = lambda a, b : np.array([f1(a,b) - 0.8, a-4*b])\n",
    "g = lambda a, b : f1(a,b) - 0.8\n",
    "v1, v2 = Newton(h1,0.8,0.8)\n",
    "P1 = np.array([v1,v2])\n",
    "w1, w2 = Newton(h2,0.8,0.8)\n",
    "P2 = np.array([w1, w2])\n",
    "gr1 = grad(g)(P1[0],P1[1])\n",
    "gr2 = grad(g)(P2[0],P2[1])\n",
    "u1 = np.array([gr1[1], -gr1[0]])\n",
    "u2 = np.array([gr2[1], -gr2[0]])\n",
    "\n",
    "t = np.array([i/15 for i in range(1,15)])\n",
    "XY = gamma(t, P1, P2, u1, u2)\n",
    "\n",
    "x1 = np.linspace(0,1,30)\n",
    "x2 = np.linspace(0.5,0.6,30)\n",
    "y1 = lambda y : (P1[1]*u1[0] - P1[0]*u1[1] + y*u1[1]) / u1[0]\n",
    "y2 = lambda y : (P2[1]*u2[0] - P2[0]*u2[1] + y*u2[1]) / u2[0]\n",
    "\n",
    "plt.scatter(XY[0],XY[1],c='blue')\n",
    "plt.scatter([v1,w1],[v2,w2],c='red')\n",
    "plt.plot(x1,y1(x1),c='green', label = \"tangente en P1\")\n",
    "plt.plot(x2,y2(x2),c='orange', label = \"tangente en P2\")\n",
    "plt.legend()"
   ]
  },
  {
   "cell_type": "markdown",
   "metadata": {},
   "source": [
    "### Intégration\n",
    "\n",
    "#### Tâche 7\n",
    "Intégrer le mécanisme d'interpolation dans (une nouvelle version de) la fonction `level_curve` qui accepte un nouveau paramètre entier `oversampling` (sur-échantillonnage) tel que :\n",
    "\n",
    "  - si `oversampling == 1`, la fonction `level_curve` fonctionne comme précédemment,\n",
    "\n",
    "  - si `oversampling > 1`, la fonction `level_curve` introduit dans son résultat `oversampling - 1` points supplémentaires obtenus par interpolations entre chaque couple de points consécutifs obtenus par la méthode de Newton."
   ]
  },
  {
   "cell_type": "markdown",
   "metadata": {},
   "source": [
    "#### Réponse T7 :\n",
    "Si oversampling > 1, level_curve3 renvoie un tableau de taille (2, N + (N-1) * (oversampling-1)) ie de taille (2, oversampling*(N-1) + 1)"
   ]
  },
  {
   "cell_type": "code",
   "execution_count": null,
   "metadata": {},
   "outputs": [],
   "source": [
    "def level_curve3(f, x0, y0, oversampling, delta=0.1, N=1000, eps=eps):\n",
    "    \n",
    "    def F(x,y):\n",
    "        return f(x,y) - f(x0,y0)\n",
    "    \n",
    "    def rotation(x):\n",
    "        #renvoie la rotation du vecteur x d'angle -pi/2\n",
    "        return np.array([x[1], -x[0]])\n",
    "    \n",
    "    if oversampling == 1:\n",
    "        return level_curve2(f, x0, y0, delta=0.1, N=1000, eps=eps)\n",
    "    \n",
    "    elif oversampling > 1:\n",
    "        curve = level_curve2(f, x0, y0, delta=0.1, N=1000, eps=eps)\n",
    "        n = curve.shape[1]\n",
    "        X = []\n",
    "        Y = []\n",
    "        t = np.array([i/oversampling for i in range(1, oversampling)])\n",
    "        \n",
    "        for i in range(n):\n",
    "            X.append(curve[0][i])\n",
    "            Y.append(curve[1][i])\n",
    "        \n",
    "        for i in range(n-1):\n",
    "            P1 = np.array([curve[0][i], curve[1][i]])\n",
    "            P2 = np.array([curve[0][i+1], curve[1][i+1]])\n",
    "            u1 = rotation(grad(F)(P1[0],P1[1]))\n",
    "            u2 = rotation(grad(F)(P2[0],P2[1]))\n",
    "            \n",
    "            for j in range(oversampling-1):\n",
    "                X.append(gamma(t, P1, P2, u1, u2)[0][j])\n",
    "                Y.append(gamma(t, P1, P2, u1, u2)[1][j])\n",
    "        \n",
    "        return np.array([X,Y])\n",
    "    \n",
    "    else:\n",
    "        ValueError(f\"valeur de oversampling invalide\")"
   ]
  },
  {
   "cell_type": "markdown",
   "metadata": {},
   "source": [
    "#### Tâche 8\n",
    "\n",
    "Valider graphiquement le résultat au moyen des exemples de référence."
   ]
  },
  {
   "cell_type": "code",
   "execution_count": null,
   "metadata": {},
   "outputs": [],
   "source": [
    "F1 = lambda a, b : np.array( [ f1(a,b) - 0.8, a-b] )\n",
    "x,y = Newton(F1,0.8,0.8)\n",
    "XY = level_curve3(f1,x,y,10)\n",
    "X0=np.linspace(-1.0, 1.0, 100) \n",
    "Y0=np.linspace(-1.0, 1.0, 100)\n",
    "\n",
    "display_contour(f1, X0, Y0, levels=10)\n",
    "\n",
    "plt.scatter(XY[0],XY[1],c='purple')"
   ]
  },
  {
   "cell_type": "code",
   "execution_count": null,
   "metadata": {},
   "outputs": [],
   "source": [
    "F2 = lambda a, b : np.array([f2(a,b)-1, a-b])\n",
    "x,y = Newton(F2,0.0,0.0)\n",
    "XY = level_curve3(f2,x,y,10)\n",
    "X0=np.linspace(-1.0, 3.0, 100)\n",
    "Y0=np.linspace(-2.0, 2.0, 100)\n",
    "\n",
    "display_contour(f2, X0, Y0, levels=[2**i for i in range(-3, 8)])\n",
    "\n",
    "plt.scatter(XY[0,::],XY[1,::],c='purple',marker='.')"
   ]
  },
  {
   "cell_type": "code",
   "execution_count": null,
   "metadata": {},
   "outputs": [],
   "source": [
    "F3 = lambda a, b : np.array([f3(a,b)+2.4, a-b])\n",
    "x,y = Newton(F3,0.0,0.0)\n",
    "XY = level_curve3(f3,x,y,10)\n",
    "X0=np.linspace(-5.0, 5.0, 100)\n",
    "Y0=np.linspace(-5.0, 5.0, 100)\n",
    "\n",
    "display_contour(f3, X0, Y0, levels=5)\n",
    "\n",
    "plt.scatter(XY[0,::],XY[1,::],c='purple',marker='.')"
   ]
  }
 ],
 "metadata": {
  "kernelspec": {
   "display_name": "Python 3",
   "language": "python",
   "name": "python3"
  },
  "language_info": {
   "codemirror_mode": {
    "name": "ipython",
    "version": 3
   },
   "file_extension": ".py",
   "mimetype": "text/x-python",
   "name": "python",
   "nbconvert_exporter": "python",
   "pygments_lexer": "ipython3",
   "version": "3.8.3"
  }
 },
 "nbformat": 4,
 "nbformat_minor": 4
}
