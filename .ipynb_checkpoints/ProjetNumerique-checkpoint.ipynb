{
 "cells": [
  {
   "cell_type": "markdown",
   "metadata": {},
   "source": [
    "#### Question 1\n",
    "Notons A l'ensemble de niveau $c$ de f.  \n",
    "$A$ est fermé comme image réciproque du fermé ${c}$ par l'application continue $f$. De plus, montrons que A est borné : \n",
    "$f(x_1, x_2) \\to +\\infty$ quand $\\|(x_1,x_2)\\| \\to +\\infty$ donc $\\exists M \\in \\mathbb{R}$ tq $\\forall \\|(x_1,x_2)\\| \\geq M$, on a $f(x_1,x_2) \\geq c+1$. Ainsi, $A$ est borné par $M$.  \n",
    "On est en dimension finie, donc fermé borné implique compact.  \n",
    "Finalement, l'ensemble de niveau $c$ de $f$ est un compact.\n"
   ]
  },
  {
   "cell_type": "markdown",
   "metadata": {},
   "source": [
    "#### Question 2\n"
   ]
  },
  {
   "cell_type": "markdown",
   "metadata": {},
   "source": [
    "#### Question 3\n",
    "On pose $g:\\mathbb{R}^2 \\times \\mathbb{R} \\to \\mathbb{R}^2$, $g(x,t) = (f(x)-c, p(x)-t)$. $g$ est continûment différentiable car $f$ et $p$ le sont.\n",
    "$\\newline J_{\\partial_x g} = \n",
    " \\begin{pmatrix}\n",
    "     \\partial_1 f(x) & \\partial_2 f(x) \\newline\n",
    "     \\frac{\\partial_2 f(x_0)}{\\|\\nabla f(x_0)\\|} & -\\frac{\\partial_1 f(x_0)}{\\|\\nabla f(x_0)\\|}\n",
    "  \\end{pmatrix} $  \n",
    "  "
   ]
  },
  {
   "cell_type": "code",
   "execution_count": null,
   "metadata": {},
   "outputs": [],
   "source": []
  }
 ],
 "metadata": {
  "kernelspec": {
   "display_name": "Python 3",
   "language": "python",
   "name": "python3"
  },
  "language_info": {
   "codemirror_mode": {
    "name": "ipython",
    "version": 3
   },
   "file_extension": ".py",
   "mimetype": "text/x-python",
   "name": "python",
   "nbconvert_exporter": "python",
   "pygments_lexer": "ipython3",
   "version": "3.8.3"
  }
 },
 "nbformat": 4,
 "nbformat_minor": 4
}
