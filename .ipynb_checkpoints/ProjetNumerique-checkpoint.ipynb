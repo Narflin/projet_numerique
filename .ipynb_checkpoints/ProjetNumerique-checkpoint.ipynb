{
 "cells": [
  {
   "cell_type": "markdown",
   "metadata": {},
   "source": [
    "#### Question 1\n",
    "Notons A l'ensemble de niveau $c$ de f. \n",
    "A est fermé comme image réciproque du fermé ${c} par l'application continue $f$. De plus, A est borné"
   ]
  },
  {
   "cell_type": "code",
   "execution_count": null,
   "metadata": {},
   "outputs": [],
   "source": []
  },
  {
   "cell_type": "markdown",
   "metadata": {
    "tags": [
     "level_advanced"
    ]
   },
   "source": [
    "#### Question 4\n",
    "On a, d'après le théorème des fonction implicites: $$d\\gamma(t) = -\\partial_x g(x,t)^{-1} \\cdot \\partial_tg(x,t) $$\n",
    "avec $x = \\gamma(t)$  \n",
    "la jacobienne associée est : \n",
    "$ J_{\\gamma(t)}= -\n",
    "\\begin{pmatrix}\n",
    "   \\partial_1 f(x) & \\partial_2 f(x) \\newline\n",
    "   \\frac{\\partial_2 f(x_0)}{\\|\\nabla f(x_0)\\|} &    \\frac{\\partial_1 f(x_0)}{\\|\\nabla f(x_0)\\|}\n",
    " \\end{pmatrix}^{-1} \\cdot \n",
    " \\begin{pmatrix}\n",
    "     0 \\newline\n",
    "     -1\n",
    " \\end{pmatrix}\n",
    "$\n",
    "\n"
   ]
  }
 ],
 "metadata": {
  "kernelspec": {
   "display_name": "Python 3",
   "language": "python",
   "name": "python3"
  },
  "language_info": {
   "codemirror_mode": {
    "name": "ipython",
    "version": 3
   },
   "file_extension": ".py",
   "mimetype": "text/x-python",
   "name": "python",
   "nbconvert_exporter": "python",
   "pygments_lexer": "ipython3",
   "version": "3.8.3"
  }
 },
 "nbformat": 4,
 "nbformat_minor": 4
}
