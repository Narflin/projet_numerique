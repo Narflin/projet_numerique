{
 "cells": [
  {
   "cell_type": "markdown",
   "metadata": {},
   "source": [
    "#### Question 1\n",
    "Notons A l'ensemble de niveau $c$ de f.  \n",
    "$A$ est fermé comme image réciproque du fermé ${c}$ par l'application continue $f$. De plus, montrons que A est borné : \n",
    "$f(x_1, x_2) \\to +\\infty$ quand $\\|(x_1,x_2)\\| \\to +\\infty$ donc $\\exists M \\in \\mathbb{R}$ tq $\\forall \\|(x_1,x_2)\\| \\geq M$, on a $f(x_1,x_2) \\geq c+1$. Ainsi, $A$ est borné par $M$.  \n",
    "On est en dimension finie, donc fermé borné implique compact.  \n",
    "Finalement, l'ensemble de niveau $c$ de $f$ est un compact.\n"
   ]
  },
  {
   "cell_type": "markdown",
   "metadata": {},
   "source": [
    "#### Question 2\n"
   ]
  },
  {
   "cell_type": "markdown",
   "metadata": {},
   "source": [
    "#### Question 3\n",
    "On pose $g:\\mathbb{R}^2 \\times \\mathbb{R} \\to \\mathbb{R}^2$, $g(x,t) = (f(x)-c, p(x)-t)$. $g$ est continûment différentiable car $f$ et $p$ le sont.\n",
    "$\\newline J_{\\partial_x g}(x,t) = \n",
    " \\begin{pmatrix}\n",
    "     \\partial_1 f(x) & \\partial_2 f(x) \\newline\n",
    "     \\frac{\\partial_2 f(x_0)}{\\|\\nabla f(x_0)\\|} & -\\frac{\\partial_1 f(x_0)}{\\|\\nabla f(x_0)\\|}\n",
    "  \\end{pmatrix} $  \n",
    "Par hypothèse, $\\nabla f$ ne s'annule pas sur un voisinage $O'$ de $x_0$. $x \\mapsto \\partial_1 f(x).\\partial_1 f(x_0) + \\partial_2 f(x).\\partial_2 f(x_0)$ est une fonction continue sur $O'$ ; elle est de plus non nulle en $x_0$ car $\\nabla f(x_0) \\ne 0$, donc il existe un autre voisinage $O$ ouvert de x_0 inclus $O'$ tq $$\\forall x \\in O, \\quad \\forall t \\in \\mathbb{R}, \\quad det(J_{\\partial_x g}(x,t)) = -\\frac{\\partial_1 f(x).\\partial_1 f(x_0) + \\partial_2 f(x).\\partial_2 f(x_0)}{\\|\\nabla f(x_0)\\|} \\ne 0 $$\n",
    "Ainsi, $g$ est inversible sur l'ouvert $O \\times \\mathbb{R}$.  \n",
    "On a de plus $g(x_0, p(x_0)) = 0$. Par théorème des fonctions implicites : il existe un $\\varepsilon > 0$ et une fonction (continûment différentiable) $\\gamma :\\left]-\\varepsilon,\\varepsilon \\right[ \\to \\mathbb{R}^2$ tels que dans un voisinage ouvert $U$ de $x_0,$ $$g(x,t) = 0 \\iff x = \\gamma(t),$$ c'est-à-dire $$f(x_1,x_2) = c \\iff (x_1, x_2) = \\gamma(t), \\quad t = p(x_1, x_2).$$"
   ]
  },
  {
   "cell_type": "markdown",
   "metadata": {
    "tags": [
     "level_advanced"
    ]
   },
   "source": [
    "#### Question 4\n",
    "On a, d'après le théorème des fonction implicites: $$d\\gamma(t) = -\\partial_x g(x,t)^{-1} \\cdot \\partial_tg(x,t) $$\n",
    "avec $x = \\gamma(t)$  \n",
    "la jacobienne associée est : \n",
    "$$ J_{\\gamma(t)}= -\n",
    "\\begin{pmatrix}\n",
    "   \\partial_1 f(x) & \\partial_2 f(x) \\newline\n",
    "   \\frac{\\partial_2 f(x_0)}{\\|\\nabla f(x_0)\\|} &    \\frac{\\partial_1 f(x_0)}{\\|\\nabla f(x_0)\\|}\n",
    " \\end{pmatrix}^{-1} \\cdot \n",
    " \\begin{pmatrix}\n",
    "     0 \\newline\n",
    "     -1\n",
    " \\end{pmatrix}=\\frac{1}{det(J_{\\partial_xg})}\\times\n",
    " \\begin{pmatrix}\n",
    "     -\\partial_2f(\\gamma(t)) \\newline\n",
    "     \\partial_1f(\\gamma(t))\n",
    " \\end{pmatrix}\n",
    "$$\n",
    "\n",
    "et donc $\\gamma'(t)=\n",
    " \\begin{pmatrix}\n",
    "     -\\partial_2f(\\gamma(t)) \\newline\n",
    "     \\partial_1f(\\gamma(t))\n",
    " \\end{pmatrix}$\n",
    " \n",
    "D'autre part on a $\\nabla f(\\gamma(t)) =  \\begin{pmatrix}\n",
    "     \\partial_1f(\\gamma(t)) \\newline\n",
    "     \\partial_2f(\\gamma(t))\n",
    " \\end{pmatrix}$\n",
    " donc $\\gamma'(t)$ et $\\nabla f(\\gamma(t))$ sont orthogonaux.  \n",
    " \n",
    " De plus le gradient de f est non nul sur $\\gamma(]-\\epsilon,\\epsilon [)$\n",
    "  donc $\\gamma'(t)$ est non nul sur $ ]-\\epsilon,\\epsilon [$\n",
    " \n",
    " \n",
    "\n",
    "\n",
    "\n"
   ]
  },
  {
   "cell_type": "code",
   "execution_count": null,
   "metadata": {},
   "outputs": [],
   "source": []
  }
 ],
 "metadata": {
  "kernelspec": {
   "display_name": "Python 3",
   "language": "python",
   "name": "python3"
  },
  "language_info": {
   "codemirror_mode": {
    "name": "ipython",
    "version": 3
   },
   "file_extension": ".py",
   "mimetype": "text/x-python",
   "name": "python",
   "nbconvert_exporter": "python",
   "pygments_lexer": "ipython3",
   "version": "3.8.3"
  }
 },
 "nbformat": 4,
 "nbformat_minor": 4
}
