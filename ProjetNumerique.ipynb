{
 "cells": [
  {
   "cell_type": "code",
   "execution_count": 1,
   "metadata": {},
   "outputs": [],
   "source": [
    "# Python Standard Library\n",
    "# -----------------------\n",
    "pass"
   ]
  },
  {
   "cell_type": "code",
   "execution_count": 2,
   "metadata": {},
   "outputs": [],
   "source": [
    "# Third-Party Libraries\n",
    "# ---------------------\n",
    "\n",
    "# Autograd & Numpy\n",
    "import autograd\n",
    "import autograd.numpy as np\n",
    "\n",
    "# Pandas\n",
    "import pandas as pd\n",
    "\n",
    "# Matplotlib\n",
    "import matplotlib as mpl\n",
    "import matplotlib.pyplot as plt\n",
    "plt.rcParams['figure.figsize'] = [10, 10] # [width, height] (inches). \n",
    "\n",
    "# Jupyter & IPython\n",
    "from IPython.display import display"
   ]
  },
  {
   "cell_type": "code",
   "execution_count": 3,
   "metadata": {},
   "outputs": [],
   "source": [
    "def grad(f):\n",
    "    g = autograd.grad\n",
    "    def grad_f(x, y):\n",
    "        return np.array([g(f, 0)(x, y), g(f, 1)(x, y)])\n",
    "    return grad_f"
   ]
  },
  {
   "cell_type": "code",
   "execution_count": 4,
   "metadata": {},
   "outputs": [],
   "source": [
    "def J(f):\n",
    "    j = autograd.jacobian\n",
    "    def J_f(x, y):\n",
    "        return np.array([j(f, 0)(x, y), j(f, 1)(x, y)]).T\n",
    "    return J_f"
   ]
  },
  {
   "cell_type": "code",
   "execution_count": 5,
   "metadata": {},
   "outputs": [],
   "source": [
    "def display_contour(f, x, y, levels):\n",
    "    X, Y = np.meshgrid(x, y)\n",
    "    Z = f(X, Y)\n",
    "    fig, ax = plt.subplots()\n",
    "    contour_set = plt.contour(\n",
    "        X, Y, Z, colors=\"grey\", linestyles=\"dashed\", \n",
    "        levels=levels \n",
    "    )\n",
    "    ax.clabel(contour_set)\n",
    "    plt.grid(True)\n",
    "    plt.xlabel(\"$x_1$\") \n",
    "    plt.ylabel(\"$x_2$\")\n",
    "    plt.gca().set_aspect(\"equal\")"
   ]
  },
  {
   "cell_type": "markdown",
   "metadata": {},
   "source": [
    "#### Question 1\n",
    "Notons A l'ensemble de niveau $c$ de f.  \n",
    "$A$ est fermé comme image réciproque du fermé ${c}$ par l'application continue $f$. De plus, montrons que A est borné : \n",
    "$f(x_1, x_2) \\to +\\infty$ quand $\\|(x_1,x_2)\\| \\to +\\infty$ donc $\\exists M \\in \\mathbb{R}$ tq $\\forall \\|(x_1,x_2)\\| \\geq M$, on a $f(x_1,x_2) \\geq c+1$. Ainsi, $A$ est borné par $M$.  \n",
    "On est en dimension finie, donc fermé borné implique compact.  \n",
    "Finalement, l'ensemble de niveau $c$ de $f$ est un compact.\n"
   ]
  },
  {
   "cell_type": "markdown",
   "metadata": {},
   "source": [
    "#### Question 2\n"
   ]
  },
  {
   "cell_type": "markdown",
   "metadata": {},
   "source": [
    "#### Question 3\n",
    "On pose $g:\\mathbb{R}^2 \\times \\mathbb{R} \\to \\mathbb{R}^2$, $g(x,t) = (f(x)-c, p(x)-t)$. $g$ est continûment différentiable car $f$ et $p$ le sont.\n",
    "$$J_{\\partial_x g}(x,t) = \n",
    " \\begin{pmatrix}\n",
    "     \\partial_1 f(x) & \\partial_2 f(x) \\newline\n",
    "     \\frac{\\partial_2 f(x_0)}{\\|\\nabla f(x_0)\\|} & -\\frac{\\partial_1 f(x_0)}{\\|\\nabla f(x_0)\\|}\n",
    "  \\end{pmatrix} $$  \n",
    "\n",
    "\n",
    "Par hypothèse, $\\nabla f$ ne s'annule pas sur un voisinage $O'$ de $ x_0 $. $x \\mapsto \\partial_1 f(x).\\partial_1 f(x_0) + \\partial_2 f(x).\\partial_2 f(x_0)$ est une fonction continue sur $O'$ ; elle est de plus non nulle en $x_0$ car $\\nabla f(x_0) \\ne 0$, donc il existe un autre voisinage $O$ ouvert de $x_0$ inclus $O'$ tq \n",
    "\n",
    "$$\\forall x \\in O, \\quad \\forall t \\in \\mathbb{R}, \\quad det(J_{\\partial_x g}(x,t)) = -\\frac{\\partial_1 f(x).\\partial_1 f(x_0) + \\partial_2 f(x).\\partial_2 f(x_0)}{\\|\\nabla f(x_0)\\|} \\ne 0 $$\n",
    "\n",
    "Ainsi, $g$ est inversible sur l'ouvert $O \\times \\mathbb{R}$.  \n",
    "\n",
    "On a de plus $g(x_0, p(x_0)) = 0$. Par théorème des fonctions implicites : il existe un $\\varepsilon > 0$ et une fonction (continûment différentiable) $\\gamma :\\left]-\\varepsilon,\\varepsilon \\right[ \\to \\mathbb{R}^2$ tels que dans un voisinage ouvert $U$ de $x_0,$ $$g(x,t) = 0 \\iff x = \\gamma(t),$$ c'est-à-dire $$f(x_1,x_2) = c, \\quad t = p(x_1, x_2) \\iff (x_1, x_2) = \\gamma(t).$$"
   ]
  },
  {
   "cell_type": "markdown",
   "metadata": {
    "tags": [
     "level_advanced"
    ]
   },
   "source": [
    "#### Question 4\n",
    "On a, d'après le théorème des fonction implicites: $$d\\gamma(t) = -\\partial_x g(x,t)^{-1} \\cdot \\partial_tg(x,t) $$\n",
    "avec $x = \\gamma(t)$  \n",
    "la jacobienne associée est : \n",
    "$$ J_{\\gamma(t)}= -\n",
    "\\begin{pmatrix}\n",
    "   \\partial_1 f(x) & \\partial_2 f(x) \\newline\n",
    "   \\frac{\\partial_2 f(x_0)}{\\|\\nabla f(x_0)\\|} &    \\frac{\\partial_1 f(x_0)}{\\|\\nabla f(x_0)\\|}\n",
    " \\end{pmatrix}^{-1} \\cdot \n",
    " \\begin{pmatrix}\n",
    "     0 \\newline\n",
    "     -1\n",
    " \\end{pmatrix}=\\frac{1}{det(J_{\\partial_xg})}\\times\n",
    " \\begin{pmatrix}\n",
    "     -\\partial_2f(\\gamma(t)) \\newline\n",
    "     \\partial_1f(\\gamma(t))\n",
    " \\end{pmatrix}\n",
    "$$\n",
    "\n",
    "et donc $\\gamma'(t)=\n",
    " \\begin{pmatrix}\n",
    "     -\\partial_2f(\\gamma(t)) \\newline\n",
    "     \\partial_1f(\\gamma(t))\n",
    " \\end{pmatrix}$\n",
    " \n",
    "D'autre part on a $\\nabla f(\\gamma(t)) =  \\begin{pmatrix}\n",
    "     \\partial_1f(\\gamma(t)) \\newline\n",
    "     \\partial_2f(\\gamma(t))\n",
    " \\end{pmatrix}$\n",
    " donc $\\gamma'(t)$ et $\\nabla f(\\gamma(t))$ sont orthogonaux.  \n",
    " \n",
    " De plus le gradient de f est non nul sur $\\gamma(]-\\epsilon,\\epsilon [)$\n",
    "  donc $\\gamma'(t)$ est non nul sur $ ]-\\epsilon,\\epsilon [$\n",
    " \n",
    " \n",
    "\n",
    "\n",
    "\n"
   ]
  },
  {
   "cell_type": "markdown",
   "metadata": {},
   "source": [
    "#### Question 5\n"
   ]
  },
  {
   "cell_type": "code",
   "execution_count": 28,
   "metadata": {},
   "outputs": [],
   "source": [
    "N = 100\n",
    "eps = 10**(-60)"
   ]
  },
  {
   "cell_type": "markdown",
   "metadata": {},
   "source": [
    "#### Tâche 1"
   ]
  },
  {
   "cell_type": "code",
   "execution_count": 29,
   "metadata": {},
   "outputs": [],
   "source": [
    "def Newton(F, x0, y0, eps=eps, N=N):\n",
    "    \n",
    "    for i in range(N):\n",
    "        v = np.array([x0, y0]) - np.linalg.inv(J(F)(x0, y0))@F(x0, y0)\n",
    "        x = v[0]\n",
    "        y = v[1]\n",
    "        if np.sqrt((x - x0)**2 + (y - y0)**2) <= eps:\n",
    "            return x, y\n",
    "        x0, y0 = x, y\n",
    "    else:\n",
    "        raise ValueError(f\"no convergence in {N} steps.\")"
   ]
  },
  {
   "cell_type": "markdown",
   "metadata": {},
   "source": [
    "#### Tâche 2"
   ]
  },
  {
   "cell_type": "code",
   "execution_count": 30,
   "metadata": {},
   "outputs": [
    {
     "data": {
      "text/plain": [
       "(0.4472135954999579, 0.4472135954999579)"
      ]
     },
     "execution_count": 30,
     "metadata": {},
     "output_type": "execute_result"
    }
   ],
   "source": [
    "def f1(x1, x2):\n",
    "    x1 = np.array(x1)\n",
    "    x2 = np.array(x2)\n",
    "    return 3.0 * x1 * x1 - 2.0 * x1 * x2 + 3.0 * x2 * x2\n",
    "\n",
    "def F(x, y):\n",
    "    return np.array([f1(x, y) - 0.8, x - y])\n",
    "\n",
    "Newton(F, 0.8, 0.8)"
   ]
  },
  {
   "cell_type": "markdown",
   "metadata": {},
   "source": [
    "#### Question 6 + Tâche 3\n"
   ]
  },
  {
   "cell_type": "code",
   "execution_count": null,
   "metadata": {},
   "outputs": [],
   "source": [
    "def level_curve(f, x0, y0, delta=0.1, N=1000, eps=eps):\n",
    "   ..."
   ]
  },
  {
   "cell_type": "markdown",
   "metadata": {},
   "source": [
    "#### Question 7 + Tâche 4"
   ]
  },
  {
   "cell_type": "code",
   "execution_count": null,
   "metadata": {},
   "outputs": [],
   "source": [
    "def level_curve2():"
   ]
  },
  {
   "cell_type": "markdown",
   "metadata": {},
   "source": [
    "#### Tâche 5"
   ]
  },
  {
   "cell_type": "markdown",
   "metadata": {},
   "source": [
    "#### Question 8"
   ]
  },
  {
   "cell_type": "markdown",
   "metadata": {},
   "source": [
    "#### Tâche 6"
   ]
  },
  {
   "cell_type": "code",
   "execution_count": null,
   "metadata": {},
   "outputs": [],
   "source": [
    "def gamma():"
   ]
  },
  {
   "cell_type": "markdown",
   "metadata": {},
   "source": [
    "#### Tâche 7"
   ]
  },
  {
   "cell_type": "code",
   "execution_count": null,
   "metadata": {},
   "outputs": [],
   "source": [
    "def level_curve3():"
   ]
  },
  {
   "cell_type": "markdown",
   "metadata": {},
   "source": [
    "#### Tâche 8"
   ]
  },
  {
   "cell_type": "code",
   "execution_count": null,
   "metadata": {},
   "outputs": [],
   "source": []
  }
 ],
 "metadata": {
  "kernelspec": {
   "display_name": "Python 3",
   "language": "python",
   "name": "python3"
  },
  "language_info": {
   "codemirror_mode": {
    "name": "ipython",
    "version": 3
   },
   "file_extension": ".py",
   "mimetype": "text/x-python",
   "name": "python",
   "nbconvert_exporter": "python",
   "pygments_lexer": "ipython3",
   "version": "3.8.3"
  }
 },
 "nbformat": 4,
 "nbformat_minor": 4
}
